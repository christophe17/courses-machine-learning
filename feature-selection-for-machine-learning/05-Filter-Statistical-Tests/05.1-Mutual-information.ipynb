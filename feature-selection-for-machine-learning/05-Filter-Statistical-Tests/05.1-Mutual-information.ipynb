{
 "cells": [
  {
   "cell_type": "markdown",
   "metadata": {},
   "source": [
    "## Mutual information\n",
    "\n",
    "The mutual information measures the reduction in uncertainty in variable A when variable B is known. \n",
    "\n",
    "To select variables, we are interested in the mutual information between the predictor variables and the target. Higher mutual information values, indicate little uncertainty about the target Y given the predictor X.\n",
    "\n",
    "Using Scikit-learn, we can determine the mutual information between a variable and the target using the `mutual_info_classif` or `mutual_info_regression` for binary or continuous targets."
   ]
  },
  {
   "cell_type": "code",
   "execution_count": 6,
   "metadata": {},
   "outputs": [],
   "source": [
    "import pandas as pd\n",
    "import matplotlib.pyplot as plt\n",
    "\n",
    "from sklearn.model_selection import train_test_split\n",
    "\n",
    "# to obtain the mutual information values\n",
    "from sklearn.feature_selection import mutual_info_classif, mutual_info_regression\n",
    "\n",
    "# to select the features\n",
    "from sklearn.feature_selection import SelectKBest, SelectPercentile"
   ]
  },
  {
   "cell_type": "markdown",
   "metadata": {},
   "source": [
    "## Classification"
   ]
  },
  {
   "cell_type": "code",
   "execution_count": 7,
   "metadata": {},
   "outputs": [
    {
     "data": {
      "text/plain": [
       "(50000, 109)"
      ]
     },
     "execution_count": 7,
     "metadata": {},
     "output_type": "execute_result"
    }
   ],
   "source": [
    "# load dataset\n",
    "\n",
    "data = pd.read_csv('../dataset_2.csv')\n",
    "data.shape"
   ]
  },
  {
   "cell_type": "code",
   "execution_count": 8,
   "metadata": {},
   "outputs": [
    {
     "data": {
      "text/html": [
       "<div>\n",
       "<style scoped>\n",
       "    .dataframe tbody tr th:only-of-type {\n",
       "        vertical-align: middle;\n",
       "    }\n",
       "\n",
       "    .dataframe tbody tr th {\n",
       "        vertical-align: top;\n",
       "    }\n",
       "\n",
       "    .dataframe thead th {\n",
       "        text-align: right;\n",
       "    }\n",
       "</style>\n",
       "<table border=\"1\" class=\"dataframe\">\n",
       "  <thead>\n",
       "    <tr style=\"text-align: right;\">\n",
       "      <th></th>\n",
       "      <th>var_1</th>\n",
       "      <th>var_2</th>\n",
       "      <th>var_3</th>\n",
       "      <th>var_4</th>\n",
       "      <th>var_5</th>\n",
       "      <th>var_6</th>\n",
       "      <th>var_7</th>\n",
       "      <th>var_8</th>\n",
       "      <th>var_9</th>\n",
       "      <th>var_10</th>\n",
       "      <th>...</th>\n",
       "      <th>var_100</th>\n",
       "      <th>var_101</th>\n",
       "      <th>var_102</th>\n",
       "      <th>var_103</th>\n",
       "      <th>var_104</th>\n",
       "      <th>var_105</th>\n",
       "      <th>var_106</th>\n",
       "      <th>var_107</th>\n",
       "      <th>var_108</th>\n",
       "      <th>var_109</th>\n",
       "    </tr>\n",
       "  </thead>\n",
       "  <tbody>\n",
       "    <tr>\n",
       "      <th>0</th>\n",
       "      <td>4.532710</td>\n",
       "      <td>3.280834</td>\n",
       "      <td>17.982476</td>\n",
       "      <td>4.404259</td>\n",
       "      <td>2.349910</td>\n",
       "      <td>0.603264</td>\n",
       "      <td>2.784655</td>\n",
       "      <td>0.323146</td>\n",
       "      <td>12.009691</td>\n",
       "      <td>0.139346</td>\n",
       "      <td>...</td>\n",
       "      <td>2.079066</td>\n",
       "      <td>6.748819</td>\n",
       "      <td>2.941445</td>\n",
       "      <td>18.360496</td>\n",
       "      <td>17.726613</td>\n",
       "      <td>7.774031</td>\n",
       "      <td>1.473441</td>\n",
       "      <td>1.973832</td>\n",
       "      <td>0.976806</td>\n",
       "      <td>2.541417</td>\n",
       "    </tr>\n",
       "    <tr>\n",
       "      <th>1</th>\n",
       "      <td>5.821374</td>\n",
       "      <td>12.098722</td>\n",
       "      <td>13.309151</td>\n",
       "      <td>4.125599</td>\n",
       "      <td>1.045386</td>\n",
       "      <td>1.832035</td>\n",
       "      <td>1.833494</td>\n",
       "      <td>0.709090</td>\n",
       "      <td>8.652883</td>\n",
       "      <td>0.102757</td>\n",
       "      <td>...</td>\n",
       "      <td>2.479789</td>\n",
       "      <td>7.795290</td>\n",
       "      <td>3.557890</td>\n",
       "      <td>17.383378</td>\n",
       "      <td>15.193423</td>\n",
       "      <td>8.263673</td>\n",
       "      <td>1.878108</td>\n",
       "      <td>0.567939</td>\n",
       "      <td>1.018818</td>\n",
       "      <td>1.416433</td>\n",
       "    </tr>\n",
       "    <tr>\n",
       "      <th>2</th>\n",
       "      <td>1.938776</td>\n",
       "      <td>7.952752</td>\n",
       "      <td>0.972671</td>\n",
       "      <td>3.459267</td>\n",
       "      <td>1.935782</td>\n",
       "      <td>0.621463</td>\n",
       "      <td>2.338139</td>\n",
       "      <td>0.344948</td>\n",
       "      <td>9.937850</td>\n",
       "      <td>11.691283</td>\n",
       "      <td>...</td>\n",
       "      <td>1.861487</td>\n",
       "      <td>6.130886</td>\n",
       "      <td>3.401064</td>\n",
       "      <td>15.850471</td>\n",
       "      <td>14.620599</td>\n",
       "      <td>6.849776</td>\n",
       "      <td>1.098210</td>\n",
       "      <td>1.959183</td>\n",
       "      <td>1.575493</td>\n",
       "      <td>1.857893</td>\n",
       "    </tr>\n",
       "    <tr>\n",
       "      <th>3</th>\n",
       "      <td>6.020690</td>\n",
       "      <td>9.900544</td>\n",
       "      <td>17.869637</td>\n",
       "      <td>4.366715</td>\n",
       "      <td>1.973693</td>\n",
       "      <td>2.026012</td>\n",
       "      <td>2.853025</td>\n",
       "      <td>0.674847</td>\n",
       "      <td>11.816859</td>\n",
       "      <td>0.011151</td>\n",
       "      <td>...</td>\n",
       "      <td>1.340944</td>\n",
       "      <td>7.240058</td>\n",
       "      <td>2.417235</td>\n",
       "      <td>15.194609</td>\n",
       "      <td>13.553772</td>\n",
       "      <td>7.229971</td>\n",
       "      <td>0.835158</td>\n",
       "      <td>2.234482</td>\n",
       "      <td>0.946170</td>\n",
       "      <td>2.700606</td>\n",
       "    </tr>\n",
       "    <tr>\n",
       "      <th>4</th>\n",
       "      <td>3.909506</td>\n",
       "      <td>10.576516</td>\n",
       "      <td>0.934191</td>\n",
       "      <td>3.419572</td>\n",
       "      <td>1.871438</td>\n",
       "      <td>3.340811</td>\n",
       "      <td>1.868282</td>\n",
       "      <td>0.439865</td>\n",
       "      <td>13.585620</td>\n",
       "      <td>1.153366</td>\n",
       "      <td>...</td>\n",
       "      <td>2.738095</td>\n",
       "      <td>6.565509</td>\n",
       "      <td>4.341414</td>\n",
       "      <td>15.893832</td>\n",
       "      <td>11.929787</td>\n",
       "      <td>6.954033</td>\n",
       "      <td>1.853364</td>\n",
       "      <td>0.511027</td>\n",
       "      <td>2.599562</td>\n",
       "      <td>0.811364</td>\n",
       "    </tr>\n",
       "  </tbody>\n",
       "</table>\n",
       "<p>5 rows × 109 columns</p>\n",
       "</div>"
      ],
      "text/plain": [
       "      var_1      var_2      var_3     var_4     var_5     var_6     var_7  \\\n",
       "0  4.532710   3.280834  17.982476  4.404259  2.349910  0.603264  2.784655   \n",
       "1  5.821374  12.098722  13.309151  4.125599  1.045386  1.832035  1.833494   \n",
       "2  1.938776   7.952752   0.972671  3.459267  1.935782  0.621463  2.338139   \n",
       "3  6.020690   9.900544  17.869637  4.366715  1.973693  2.026012  2.853025   \n",
       "4  3.909506  10.576516   0.934191  3.419572  1.871438  3.340811  1.868282   \n",
       "\n",
       "      var_8      var_9     var_10  ...   var_100   var_101   var_102  \\\n",
       "0  0.323146  12.009691   0.139346  ...  2.079066  6.748819  2.941445   \n",
       "1  0.709090   8.652883   0.102757  ...  2.479789  7.795290  3.557890   \n",
       "2  0.344948   9.937850  11.691283  ...  1.861487  6.130886  3.401064   \n",
       "3  0.674847  11.816859   0.011151  ...  1.340944  7.240058  2.417235   \n",
       "4  0.439865  13.585620   1.153366  ...  2.738095  6.565509  4.341414   \n",
       "\n",
       "     var_103    var_104   var_105   var_106   var_107   var_108   var_109  \n",
       "0  18.360496  17.726613  7.774031  1.473441  1.973832  0.976806  2.541417  \n",
       "1  17.383378  15.193423  8.263673  1.878108  0.567939  1.018818  1.416433  \n",
       "2  15.850471  14.620599  6.849776  1.098210  1.959183  1.575493  1.857893  \n",
       "3  15.194609  13.553772  7.229971  0.835158  2.234482  0.946170  2.700606  \n",
       "4  15.893832  11.929787  6.954033  1.853364  0.511027  2.599562  0.811364  \n",
       "\n",
       "[5 rows x 109 columns]"
      ]
     },
     "execution_count": 8,
     "metadata": {},
     "output_type": "execute_result"
    }
   ],
   "source": [
    "# in this dataset, all features are continuous\n",
    "\n",
    "data.head()"
   ]
  },
  {
   "cell_type": "markdown",
   "metadata": {},
   "source": [
    "**Important**\n",
    "\n",
    "In all feature selection procedures, it is good practice to select the features by examining only the training set. And this is to avoid overfit."
   ]
  },
  {
   "cell_type": "code",
   "execution_count": 9,
   "metadata": {},
   "outputs": [
    {
     "data": {
      "text/plain": [
       "((35000, 108), (15000, 108))"
      ]
     },
     "execution_count": 9,
     "metadata": {},
     "output_type": "execute_result"
    }
   ],
   "source": [
    "# separate train and test sets\n",
    "\n",
    "X_train, X_test, y_train, y_test = train_test_split(\n",
    "    data.drop(labels=['target'], axis=1),\n",
    "    data['target'],\n",
    "    test_size=0.3,\n",
    "    random_state=0)\n",
    "\n",
    "X_train.shape, X_test.shape"
   ]
  },
  {
   "cell_type": "markdown",
   "metadata": {},
   "source": [
    "### Determine Mutual Information"
   ]
  },
  {
   "cell_type": "code",
   "execution_count": 5,
   "metadata": {},
   "outputs": [
    {
     "name": "stdout",
     "output_type": "stream",
     "text": [
      "xy_pairs:  [(1, 5), (2, 6), (3, 4), (4, 2), (5, 3), (6, 6), (7, 7), (8, 8)]\n",
      "joint_counts:  Counter({(1, 5): 1, (2, 6): 1, (3, 4): 1, (4, 2): 1, (5, 3): 1, (6, 6): 1, (7, 7): 1, (8, 8): 1})\n",
      "x_counts:  Counter({1: 1, 2: 1, 3: 1, 4: 1, 5: 1, 6: 1, 7: 1, 8: 1})\n",
      "y_counts:  Counter({6: 2, 5: 1, 4: 1, 2: 1, 3: 1, 7: 1, 8: 1})\n",
      "mi:  2.75\n"
     ]
    }
   ],
   "source": [
    "# From Scratch\n",
    "\n",
    "from collections import Counter\n",
    "from math import log\n",
    "\n",
    "x = [1, 2, 3, 4, 5, 6, 7, 8]\n",
    "y = [5, 6, 4, 2, 3, 6, 7, 8]\n",
    "\n",
    "n = len(x)\n",
    "    \n",
    "# Joint distribution\n",
    "xy_pairs = list(zip(x, y))\n",
    "print('xy_pairs: ', xy_pairs)\n",
    "joint_counts = Counter(xy_pairs)\n",
    "print('joint_counts: ', joint_counts)\n",
    "x_counts = Counter(x)\n",
    "print('x_counts: ', x_counts)\n",
    "y_counts = Counter(y)\n",
    "print('y_counts: ', y_counts)\n",
    "\n",
    "mi = 0.0\n",
    "for (x_val, y_val), joint_count in joint_counts.items():\n",
    "    p_xy = joint_count / n\n",
    "    p_x = x_counts[x_val] / n\n",
    "    p_y = y_counts[y_val] / n\n",
    "    mi += p_xy * log(p_xy / (p_x * p_y), 2)\n",
    "\n",
    "print('mi: ', mi)"
   ]
  },
  {
   "cell_type": "code",
   "execution_count": 10,
   "metadata": {},
   "outputs": [
    {
     "data": {
      "text/plain": [
       "array([0.00000000e+00, 3.67601397e-03, 0.00000000e+00, 1.28803417e-03,\n",
       "       4.35182182e-04, 5.40768432e-03, 4.94471775e-03, 3.01932430e-03,\n",
       "       0.00000000e+00, 0.00000000e+00, 7.19218459e-04, 1.00966374e-03,\n",
       "       9.14168449e-04, 5.05199058e-03, 0.00000000e+00, 1.61645582e-02,\n",
       "       0.00000000e+00, 0.00000000e+00, 0.00000000e+00, 0.00000000e+00,\n",
       "       3.97314147e-03, 0.00000000e+00, 0.00000000e+00, 0.00000000e+00,\n",
       "       1.86742309e-04, 0.00000000e+00, 0.00000000e+00, 0.00000000e+00,\n",
       "       1.58236889e-03, 1.50573185e-03, 0.00000000e+00, 0.00000000e+00,\n",
       "       4.72901162e-03, 1.70392209e-02, 0.00000000e+00, 2.09898857e-03,\n",
       "       2.69286727e-04, 1.92222958e-03, 5.58374631e-04, 0.00000000e+00,\n",
       "       0.00000000e+00, 0.00000000e+00, 0.00000000e+00, 3.11456391e-03,\n",
       "       1.28075121e-03, 2.30429983e-03, 0.00000000e+00, 6.21101266e-03,\n",
       "       0.00000000e+00, 3.02609146e-04, 0.00000000e+00, 2.76726689e-03,\n",
       "       0.00000000e+00, 3.62166201e-03, 4.07375590e-02, 1.56425369e-03,\n",
       "       3.70491663e-03, 0.00000000e+00, 2.66428018e-04, 2.65598211e-03,\n",
       "       0.00000000e+00, 0.00000000e+00, 1.00633731e-03, 0.00000000e+00,\n",
       "       3.63881489e-03, 0.00000000e+00, 0.00000000e+00, 1.33439726e-02,\n",
       "       0.00000000e+00, 0.00000000e+00, 1.17056683e-04, 4.34572519e-03,\n",
       "       2.53119381e-03, 4.97783501e-04, 1.47125851e-03, 6.93003773e-05,\n",
       "       4.17670486e-03, 0.00000000e+00, 3.29734056e-03, 2.39914523e-03,\n",
       "       1.29246912e-03, 4.51050638e-05, 0.00000000e+00, 0.00000000e+00,\n",
       "       3.91068177e-03, 0.00000000e+00, 0.00000000e+00, 0.00000000e+00,\n",
       "       3.41438276e-03, 5.23646224e-04, 2.55078061e-03, 0.00000000e+00,\n",
       "       1.12778090e-03, 1.41643176e-03, 7.35481305e-03, 2.63336727e-03,\n",
       "       3.44717721e-03, 6.18734788e-04, 4.10849655e-03, 2.48754554e-03,\n",
       "       3.27128495e-03, 2.54028407e-03, 5.80989858e-04, 0.00000000e+00,\n",
       "       1.91453539e-03, 0.00000000e+00, 1.90553824e-02, 1.22093031e-04])"
      ]
     },
     "execution_count": 10,
     "metadata": {},
     "output_type": "execute_result"
    }
   ],
   "source": [
    "# calculate the mutual information between the variables and the target\n",
    "\n",
    "# the smaller the value of the mi, the less information we can infer from\n",
    "# the feature about the target\n",
    "\n",
    "mi = mutual_info_classif(\n",
    "    X = X_train, \n",
    "    y = y_train,\n",
    "    discrete_features = False, \n",
    "    n_neighbors=3,\n",
    "    random_state=3,\n",
    ")\n",
    "\n",
    "mi"
   ]
  },
  {
   "cell_type": "code",
   "execution_count": 11,
   "metadata": {
    "scrolled": false
   },
   "outputs": [
    {
     "data": {
      "text/plain": [
       "Text(0, 0.5, 'Mutual Information')"
      ]
     },
     "execution_count": 11,
     "metadata": {},
     "output_type": "execute_result"
    },
    {
     "data": {
      "image/png": "[encoded data removed]",
      "text/plain": [
       "<Figure size 2000x600 with 1 Axes>"
      ]
     },
     "metadata": {},
     "output_type": "display_data"
    }
   ],
   "source": [
    "# 1) let's capture the above array in a pandas series\n",
    "# 2) add the variable names in the index\n",
    "# 3) sort the features based on their mutual information value\n",
    "# 4) and make a var plot\n",
    "\n",
    "mi = pd.Series(mi)\n",
    "mi.index = X_train.columns\n",
    "mi.sort_values(ascending=False).plot.bar(figsize=(20, 6))\n",
    "plt.ylabel('Mutual Information')"
   ]
  },
  {
   "cell_type": "markdown",
   "metadata": {},
   "source": [
    "There are a few features (left of the plot) with high mutual information values. There are also features with almost zero MI values on the right of the plot.\n",
    "\n",
    "Once we find the mutual information values, to select features we need to determine a threshold, or cut-off value, above which a feature will be selected.\n",
    "\n",
    "There are a few ways in which this can be done:\n",
    "\n",
    "- Select top k features, where k is an arbitrary number of features\n",
    "\n",
    "- Select features in the top n percentile, where n is again an arbitrary number\n",
    "\n",
    "- Select all features above a certain threshold of MI, arbitrarily decided.\n",
    "\n",
    "Scikit-learn transformer **SelectKBest**, allows us to automatically select the top k features, based of any statistical value, including the MI.\n",
    "\n",
    "Sklearn's **SelectPercentile** allows us to select the features in the top percentile of any statistical value, including the MI.\n",
    "\n",
    "Alternatively, if we want to select features based on a MI threshold, we can do it manually.\n",
    "\n",
    "### Select top k features based on MI"
   ]
  },
  {
   "cell_type": "code",
   "execution_count": 7,
   "metadata": {},
   "outputs": [
    {
     "data": {
      "text/plain": [
       "Index(['var_6', 'var_7', 'var_14', 'var_16', 'var_33', 'var_34', 'var_55',\n",
       "       'var_69', 'var_96', 'var_108'],\n",
       "      dtype='object')"
      ]
     },
     "execution_count": 7,
     "metadata": {},
     "output_type": "execute_result"
    }
   ],
   "source": [
    "# here we will select the top 10 features\n",
    "# based on their mutual information value\n",
    "\n",
    "# select features\n",
    "sel_ = SelectKBest(mutual_info_classif, k=10).fit(X_train, y_train)\n",
    "\n",
    "# display features\n",
    "X_train.columns[sel_.get_support()]"
   ]
  },
  {
   "cell_type": "code",
   "execution_count": 8,
   "metadata": {},
   "outputs": [],
   "source": [
    "# to remove the rest of the features:\n",
    "\n",
    "X_train = sel_.transform(X_train)\n",
    "X_test = sel_.transform(X_test)"
   ]
  },
  {
   "cell_type": "markdown",
   "metadata": {},
   "source": [
    "## Regression"
   ]
  },
  {
   "cell_type": "code",
   "execution_count": 9,
   "metadata": {},
   "outputs": [
    {
     "data": {
      "text/plain": [
       "(1460, 81)"
      ]
     },
     "execution_count": 9,
     "metadata": {},
     "output_type": "execute_result"
    }
   ],
   "source": [
    "# load dataset\n",
    "data = pd.read_csv('../houseprice.csv')\n",
    "data.shape"
   ]
  },
  {
   "cell_type": "code",
   "execution_count": 10,
   "metadata": {},
   "outputs": [
    {
     "data": {
      "text/plain": [
       "(1460, 38)"
      ]
     },
     "execution_count": 10,
     "metadata": {},
     "output_type": "execute_result"
    }
   ],
   "source": [
    "# In practice, feature selection should be done after data pre-processing,\n",
    "# so ideally, all the categorical variables are encoded into numbers,\n",
    "# and then you can assess how deterministic they are of the target\n",
    "\n",
    "# here for simplicity I will use only numerical variables\n",
    "# select numerical columns:\n",
    "\n",
    "numerics = ['int16', 'int32', 'int64', 'float16', 'float32', 'float64']\n",
    "numerical_vars = list(data.select_dtypes(include=numerics).columns)\n",
    "data = data[numerical_vars]\n",
    "data.shape"
   ]
  },
  {
   "cell_type": "code",
   "execution_count": 11,
   "metadata": {},
   "outputs": [
    {
     "data": {
      "text/plain": [
       "((1022, 36), (438, 36))"
      ]
     },
     "execution_count": 11,
     "metadata": {},
     "output_type": "execute_result"
    }
   ],
   "source": [
    "# separate train and test sets\n",
    "X_train, X_test, y_train, y_test = train_test_split(\n",
    "    data.drop(labels=['Id','SalePrice'], axis=1),\n",
    "    data['SalePrice'],\n",
    "    test_size=0.3,\n",
    "    random_state=0)\n",
    "\n",
    "X_train.shape, X_test.shape"
   ]
  },
  {
   "cell_type": "code",
   "execution_count": 12,
   "metadata": {},
   "outputs": [
    {
     "data": {
      "text/plain": [
       "MSSubClass        15\n",
       "LotFrontage      101\n",
       "LotArea          790\n",
       "OverallQual       10\n",
       "OverallCond        9\n",
       "YearBuilt        107\n",
       "YearRemodAdd      61\n",
       "MasVnrArea       261\n",
       "BsmtFinSF1       503\n",
       "BsmtFinSF2       113\n",
       "BsmtUnfSF        627\n",
       "TotalBsmtSF      573\n",
       "1stFlrSF         617\n",
       "2ndFlrSF         326\n",
       "LowQualFinSF      18\n",
       "GrLivArea        670\n",
       "BsmtFullBath       4\n",
       "BsmtHalfBath       3\n",
       "FullBath           4\n",
       "HalfBath           3\n",
       "BedroomAbvGr       8\n",
       "KitchenAbvGr       4\n",
       "TotRmsAbvGrd      12\n",
       "Fireplaces         4\n",
       "GarageYrBlt       94\n",
       "GarageCars         5\n",
       "GarageArea       376\n",
       "WoodDeckSF       225\n",
       "OpenPorchSF      173\n",
       "EnclosedPorch    103\n",
       "3SsnPorch         17\n",
       "ScreenPorch       62\n",
       "PoolArea           4\n",
       "MiscVal           21\n",
       "MoSold            12\n",
       "YrSold             5\n",
       "dtype: int64"
      ]
     },
     "execution_count": 12,
     "metadata": {},
     "output_type": "execute_result"
    }
   ],
   "source": [
    "# in this dataset, some features are discrete\n",
    "\n",
    "X_train.nunique()"
   ]
  },
  {
   "cell_type": "code",
   "execution_count": 13,
   "metadata": {},
   "outputs": [
    {
     "data": {
      "text/plain": [
       "array([ True, False, False,  True,  True, False, False, False, False,\n",
       "       False, False, False, False, False, False, False,  True,  True,\n",
       "        True,  True,  True,  True,  True,  True, False,  True, False,\n",
       "       False, False, False, False, False,  True, False,  True,  True])"
      ]
     },
     "execution_count": 13,
     "metadata": {},
     "output_type": "execute_result"
    }
   ],
   "source": [
    "# let's capture the discrete features in a boolean vector\n",
    "\n",
    "discrete = (X_train.nunique() <= 15).values\n",
    "\n",
    "discrete"
   ]
  },
  {
   "cell_type": "code",
   "execution_count": 14,
   "metadata": {},
   "outputs": [],
   "source": [
    "## fill missing values\n",
    "\n",
    "X_train = X_train.fillna(0)\n",
    "X_test = X_test.fillna(0)"
   ]
  },
  {
   "cell_type": "markdown",
   "metadata": {},
   "source": [
    "### Determine Mutual Information"
   ]
  },
  {
   "cell_type": "code",
   "execution_count": 15,
   "metadata": {},
   "outputs": [],
   "source": [
    "# determine the mutual information\n",
    "\n",
    "mi = mutual_info_regression(\n",
    "    X = X_train, \n",
    "    y = y_train,\n",
    "    discrete_features = discrete, \n",
    "    n_neighbors=3,\n",
    "    random_state=3,\n",
    ")"
   ]
  },
  {
   "cell_type": "code",
   "execution_count": 16,
   "metadata": {
    "scrolled": false
   },
   "outputs": [
    {
     "data": {
      "text/plain": [
       "Text(0, 0.5, 'Mutual Information')"
      ]
     },
     "execution_count": 16,
     "metadata": {},
     "output_type": "execute_result"
    },
    {
     "data": {
      "image/png": "[encoded data removed]",
      "text/plain": [
       "<Figure size 1440x432 with 1 Axes>"
      ]
     },
     "metadata": {
      "needs_background": "light"
     },
     "output_type": "display_data"
    }
   ],
   "source": [
    "# and make a bar  plot\n",
    "\n",
    "mi = pd.Series(mi)\n",
    "mi.index = X_train.columns\n",
    "mi.sort_values(ascending=False).plot.bar(figsize=(20,6))\n",
    "plt.ylabel('Mutual Information')"
   ]
  },
  {
   "cell_type": "markdown",
   "metadata": {},
   "source": [
    "### Select top 10th percentile features"
   ]
  },
  {
   "cell_type": "code",
   "execution_count": 17,
   "metadata": {},
   "outputs": [
    {
     "data": {
      "text/plain": [
       "Index(['OverallQual', 'TotalBsmtSF', 'GrLivArea', 'GarageArea'], dtype='object')"
      ]
     },
     "execution_count": 17,
     "metadata": {},
     "output_type": "execute_result"
    }
   ],
   "source": [
    "# Select the features in the top percentile\n",
    "sel_ = SelectPercentile(\n",
    "    mutual_info_regression,\n",
    "    percentile=10,\n",
    ").fit(X_train, y_train)\n",
    "\n",
    "# display the features\n",
    "X_train.columns[sel_.get_support()]"
   ]
  },
  {
   "cell_type": "code",
   "execution_count": 18,
   "metadata": {},
   "outputs": [
    {
     "data": {
      "text/plain": [
       "array([[   7., 1057., 2034.,  645.],\n",
       "       [   6., 1291., 1291.,  431.],\n",
       "       [   5.,  858.,  858.,    0.],\n",
       "       ...,\n",
       "       [   6.,    0., 1902.,  539.],\n",
       "       [   7., 1374., 1557.,  420.],\n",
       "       [   7., 1195., 1839.,  486.]])"
      ]
     },
     "execution_count": 18,
     "metadata": {},
     "output_type": "execute_result"
    }
   ],
   "source": [
    "# to remove the rest of the features:\n",
    "\n",
    "X_train = sel_.transform(X_train)\n",
    "X_test = sel_.transform(X_test)\n",
    "\n",
    "X_train"
   ]
  },
  {
   "cell_type": "markdown",
   "metadata": {},
   "source": [
    "I have not personally used mutual information in any of my projects. However, there is some value in the method. See for example:\n",
    "\n",
    "Comparison between univariate and mutual information selection in [sklean website](http://scikit-learn.org/stable/auto_examples/feature_selection/plot_f_test_vs_mi.html#sphx-glr-auto-examples-feature-selection-plot-f-test-vs-mi-py)\n",
    "\n",
    "That is all for this lecture, I hope you enjoyed it and see you in the next one!"
   ]
  }
 ],
 "metadata": {
  "kernelspec": {
   "display_name": "ml_env",
   "language": "python",
   "name": "python3"
  },
  "language_info": {
   "codemirror_mode": {
    "name": "ipython",
    "version": 3
   },
   "file_extension": ".py",
   "mimetype": "text/x-python",
   "name": "python",
   "nbconvert_exporter": "python",
   "pygments_lexer": "ipython3",
   "version": "3.11.13"
  },
  "toc": {
   "base_numbering": 1,
   "nav_menu": {},
   "number_sections": true,
   "sideBar": true,
   "skip_h1_title": false,
   "title_cell": "Table of Contents",
   "title_sidebar": "Contents",
   "toc_cell": false,
   "toc_position": {},
   "toc_section_display": "block",
   "toc_window_display": true
  }
 },
 "nbformat": 4,
 "nbformat_minor": 2
}
